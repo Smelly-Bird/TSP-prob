{
 "cells": [
  {
   "cell_type": "code",
   "id": "initial_id",
   "metadata": {
    "collapsed": true,
    "ExecuteTime": {
     "end_time": "2025-05-04T10:00:53.329764Z",
     "start_time": "2025-05-04T10:00:51.616721Z"
    }
   },
   "source": [
    "import pandas as pd\n",
    "import numpy as np\n",
    "import csv"
   ],
   "outputs": [],
   "execution_count": 2
  },
  {
   "metadata": {
    "ExecuteTime": {
     "end_time": "2025-05-04T10:00:55.872383Z",
     "start_time": "2025-05-04T10:00:55.863653Z"
    }
   },
   "cell_type": "code",
   "source": [
    "with open('./data/TSP-mat.csv', 'r', encoding='utf-8') as f:\n",
    "    reader = csv.reader(f)\n",
    "    data_list = list(reader)\n",
    "    data = [row[1:] for row in data_list[1:]]\n",
    "\n",
    "data = np.array(data, dtype=float)\n",
    "print(np.shape(data))\n",
    "print(data)"
   ],
   "id": "224080f5a52fc70",
   "outputs": [
    {
     "name": "stdout",
     "output_type": "stream",
     "text": [
      "(107, 107)\n",
      "[[  0.    5.    3.2 ... 124.5  81.5  41.4]\n",
      " [  5.    0.    4.9 ... 119.5  76.5  36.4]\n",
      " [  3.2   5.1   0.  ... 123.   79.7  34.3]\n",
      " ...\n",
      " [124.4 119.4 122.3 ...   0.   41.3 160.5]\n",
      " [ 81.8  76.8  80.9 ...  41.3   0.  116.4]\n",
      " [ 42.2  37.2  33.9 ... 160.5 116.4   0. ]]\n"
     ]
    }
   ],
   "execution_count": 3
  },
  {
   "metadata": {},
   "cell_type": "markdown",
   "source": "## 验证两边之和大于第三边",
   "id": "77c141ad3dcd769c"
  },
  {
   "metadata": {
    "ExecuteTime": {
     "end_time": "2025-05-04T05:13:20.324105Z",
     "start_time": "2025-05-04T05:13:19.597220Z"
    }
   },
   "cell_type": "code",
   "source": [
    "res = 0;\n",
    "for i in range(np.shape(data)[0]):\n",
    "    for j in range(np.shape(data)[0]):\n",
    "        for k in range(np.shape(data)[0]):\n",
    "            if i != j and j != k and i != k:\n",
    "                # if data[i][j] + data[j][k] < data[i][k]:\n",
    "                sum_dis = data[i][j] + data[j][k]\n",
    "                if (data[i][k] - sum_dis) / sum_dis > 0.1:\n",
    "                    res += 1\n",
    "\n",
    "print(res)\n",
    "print(res / (np.shape(data)[0] * (np.shape(data)[0] - 1) * (np.shape(data)[0]) - 2))"
   ],
   "id": "3fe3915af98f3a04",
   "outputs": [
    {
     "name": "stdout",
     "output_type": "stream",
     "text": [
      "9055\n",
      "0.007461321432573715\n"
     ]
    }
   ],
   "execution_count": 38
  },
  {
   "metadata": {},
   "cell_type": "markdown",
   "source": "不成立",
   "id": "af0b16a63d074371"
  },
  {
   "metadata": {},
   "cell_type": "markdown",
   "source": "## 使用ortools求解",
   "id": "801beeca3be050f7"
  },
  {
   "metadata": {
    "ExecuteTime": {
     "end_time": "2025-05-04T10:01:07.159575Z",
     "start_time": "2025-05-04T10:01:06.379237Z"
    }
   },
   "cell_type": "code",
   "source": [
    "from ortools.constraint_solver import routing_enums_pb2\n",
    "from ortools.constraint_solver import pywrapcp"
   ],
   "id": "83c2a61ef6b2b423",
   "outputs": [
    {
     "name": "stdout",
     "output_type": "stream",
     "text": [
      "load D:\\miniconda3\\envs\\Callonetta\\Lib\\site-packages\\ortools\\.libs\\zlib1.dll...\n",
      "load D:\\miniconda3\\envs\\Callonetta\\Lib\\site-packages\\ortools\\.libs\\abseil_dll.dll...\n",
      "load D:\\miniconda3\\envs\\Callonetta\\Lib\\site-packages\\ortools\\.libs\\utf8_validity.dll...\n",
      "load D:\\miniconda3\\envs\\Callonetta\\Lib\\site-packages\\ortools\\.libs\\re2.dll...\n",
      "load D:\\miniconda3\\envs\\Callonetta\\Lib\\site-packages\\ortools\\.libs\\libprotobuf.dll...\n",
      "load D:\\miniconda3\\envs\\Callonetta\\Lib\\site-packages\\ortools\\.libs\\highs.dll...\n",
      "load D:\\miniconda3\\envs\\Callonetta\\Lib\\site-packages\\ortools\\.libs\\ortools.dll...\n"
     ]
    }
   ],
   "execution_count": 4
  },
  {
   "metadata": {
    "ExecuteTime": {
     "end_time": "2025-05-04T05:15:36.664372Z",
     "start_time": "2025-05-04T05:15:36.657896Z"
    }
   },
   "cell_type": "code",
   "source": [
    "def solve_tsp_ortools(tsp_matrix):\n",
    "    num_nodes = len(tsp_matrix)\n",
    "    manager = pywrapcp.RoutingIndexManager(num_nodes, 1, 0)\n",
    "    routing = pywrapcp.RoutingModel(manager)\n",
    "\n",
    "    def distance_callback(from_index, to_index):\n",
    "        from_node = manager.IndexToNode(from_index)\n",
    "        to_node = manager.IndexToNode(to_index)\n",
    "        return int(tsp_matrix[from_node][to_node] * 10)\n",
    "\n",
    "    transit_callback_index = routing.RegisterTransitCallback(distance_callback)\n",
    "    routing.SetArcCostEvaluatorOfAllVehicles(transit_callback_index)\n",
    "\n",
    "    search_parameters = pywrapcp.DefaultRoutingSearchParameters()\n",
    "    search_parameters.first_solution_strategy = (\n",
    "        routing_enums_pb2.FirstSolutionStrategy.PATH_CHEAPEST_ARC\n",
    "    )\n",
    "    search_parameters.local_search_metaheuristic = (\n",
    "        routing_enums_pb2.LocalSearchMetaheuristic.GUIDED_LOCAL_SEARCH\n",
    "    )\n",
    "\n",
    "    # # 启用多线程 - 根据CPU核心数设置\n",
    "    # import multiprocessing\n",
    "    # num_cores = multiprocessing.cpu_count()\n",
    "    # # search_parameters.number_of_threads = max(1, int(num_cores * 0.75))\n",
    "    # search_parameters.local_search_metaheuristic_threads = max(1, int(num_cores * 0.75))\n",
    "\n",
    "    # 其他性能优化参数\n",
    "    search_parameters.time_limit.seconds = 600\n",
    "    search_parameters.lns_time_limit.seconds = 60  # 大邻域搜索时间限制\n",
    "    search_parameters.use_full_propagation = True  # 完全约束传播\n",
    "\n",
    "    # 并行化策略\n",
    "    search_parameters.local_search_operators.use_path_lns = pywrapcp.BOOL_TRUE\n",
    "    search_parameters.local_search_operators.use_inactive_lns = pywrapcp.BOOL_TRUE\n",
    "\n",
    "    solution = routing.SolveWithParameters(search_parameters)\n",
    "    if solution:\n",
    "        index = routing.Start(0)\n",
    "        tour = []\n",
    "        while not routing.IsEnd(index):\n",
    "            tour.append(manager.IndexToNode(index))\n",
    "            index = solution.Value(routing.NextVar(index))\n",
    "        tour.append(0)\n",
    "        total_distance = solution.ObjectiveValue()\n",
    "        return tour, total_distance\n",
    "    else:\n",
    "        return None, None"
   ],
   "id": "3313db13302ef0b2",
   "outputs": [],
   "execution_count": 4
  },
  {
   "metadata": {
    "ExecuteTime": {
     "end_time": "2025-05-04T07:35:27.760740Z",
     "start_time": "2025-05-04T07:35:27.723219Z"
    }
   },
   "cell_type": "code",
   "source": [
    "from ortools.sat.python import cp_model\n",
    "\n",
    "def solve_tsp_ortools_new(tsp_matrix, time_limit_sec=600, num_workers=20):\n",
    "    \"\"\"\n",
    "    用 CP-SAT 求解 TSP 并行版。\n",
    "\n",
    "    参数:\n",
    "        tsp_matrix     : 二维距离矩阵（浮点数或整数）。\n",
    "        time_limit_sec : 搜索时间（秒）。\n",
    "        num_workers    : 并行线程数。\n",
    "\n",
    "    返回:\n",
    "        tour           : 包含回到起点的结点序列列表。\n",
    "        total_distance : 最优路程（原距离单位，浮点数）。\n",
    "    \"\"\"\n",
    "    num_nodes = len(tsp_matrix)\n",
    "\n",
    "    # 1. 建模型\n",
    "    model = cp_model.CpModel()\n",
    "\n",
    "    # 2. 定义二元决策变量 x[i,j]：是否从 i 走到 j\n",
    "    x = {}\n",
    "    for i in range(num_nodes):\n",
    "        for j in range(num_nodes):\n",
    "            if i == j:\n",
    "                continue\n",
    "            x[(i, j)] = model.NewBoolVar(f'x_{i}_{j}')\n",
    "\n",
    "    # 3. Circuit 约束：强制选出一条覆盖所有节点的回路\n",
    "    arcs = []\n",
    "    for (i, j), var in x.items():\n",
    "        arcs.append((i, j, var))\n",
    "    model.AddCircuit(arcs)\n",
    "\n",
    "    # 4. 目标函数：最小化总距离\n",
    "    terms = []\n",
    "    for (i, j), var in x.items():\n",
    "        # 把浮点距离放大 10 倍转成整数\n",
    "        cost = int(tsp_matrix[i][j] * 10)\n",
    "        terms.append(cost * var)\n",
    "    model.Minimize(sum(terms))\n",
    "\n",
    "    # 5. 调用 CP-SAT 求解器\n",
    "    solver = cp_model.CpSolver()\n",
    "    solver.parameters.max_time_in_seconds = time_limit_sec\n",
    "    solver.parameters.num_search_workers = num_workers\n",
    "    # solver.parameters.log_search_progress = True  # 如需日志可打开\n",
    "\n",
    "    status = solver.Solve(model)\n",
    "\n",
    "    # 6. 提取结果\n",
    "    if status in (cp_model.OPTIMAL, cp_model.FEASIBLE):\n",
    "        tour = [0]\n",
    "        current = 0\n",
    "        # 从 0 开始，按选中的 x[current,j] 一步步追踪\n",
    "        for _ in range(num_nodes - 1):\n",
    "            for j in range(num_nodes):\n",
    "                if current != j and solver.Value(x[(current, j)]) == 1:\n",
    "                    tour.append(j)\n",
    "                    current = j\n",
    "                    break\n",
    "        tour.append(0)  # 回到起点\n",
    "\n",
    "        # 解的 Objective 是放大 10 倍后的距离之和\n",
    "        total_distance = solver.ObjectiveValue() / 10.0\n",
    "        return tour, total_distance\n",
    "    else:\n",
    "        return None, None\n",
    "\n",
    "\n",
    "# 示例调用\n",
    "if __name__ == '__main__':\n",
    "    # 简单示例矩阵\n",
    "    matrix = np.random.randint(1, 100, size=(20, 20))\n",
    "    np.fill_diagonal(matrix, 0)\n",
    "    tour, dist = solve_tsp_ortools_new(matrix, time_limit_sec=30, num_workers=4)\n",
    "    print('Tour:', tour)\n",
    "    print('Distance:', dist)\n"
   ],
   "id": "a4099c833a8287f6",
   "outputs": [
    {
     "name": "stdout",
     "output_type": "stream",
     "text": [
      "Tour: [0, 5, 14, 13, 19, 12, 16, 3, 6, 8, 9, 11, 15, 4, 18, 7, 10, 17, 1, 2, 0]\n",
      "Distance: 205.0\n"
     ]
    }
   ],
   "execution_count": 5
  },
  {
   "metadata": {
    "ExecuteTime": {
     "end_time": "2025-05-04T07:35:31.994430Z",
     "start_time": "2025-05-04T07:35:31.987230Z"
    }
   },
   "cell_type": "code",
   "source": [
    "import multiprocessing\n",
    "num_cores = multiprocessing.cpu_count()\n",
    "print(num_cores)"
   ],
   "id": "42021131b2ebad9c",
   "outputs": [
    {
     "name": "stdout",
     "output_type": "stream",
     "text": [
      "32\n"
     ]
    }
   ],
   "execution_count": 6
  },
  {
   "metadata": {
    "ExecuteTime": {
     "end_time": "2025-05-04T07:35:40.427861Z",
     "start_time": "2025-05-04T07:35:36.255406Z"
    }
   },
   "cell_type": "code",
   "source": [
    "tour, total_distance = solve_tsp_ortools_new(data)\n",
    "\n",
    "if tour:\n",
    "    print(\"Optimal tour:\", tour)\n",
    "    print(\"Total distance:\", total_distance)\n",
    "else:\n",
    "    print(\"No solution found.\")"
   ],
   "id": "988b752bab3e65d9",
   "outputs": [
    {
     "name": "stdout",
     "output_type": "stream",
     "text": [
      "Optimal tour: [0, 1, 5, 8, 105, 104, 97, 98, 95, 96, 94, 89, 90, 93, 74, 70, 91, 92, 76, 69, 68, 66, 67, 72, 73, 71, 75, 27, 18, 17, 24, 25, 20, 19, 28, 23, 21, 26, 22, 40, 10, 11, 30, 29, 41, 106, 34, 33, 35, 36, 37, 38, 39, 32, 31, 12, 6, 50, 15, 13, 14, 16, 65, 62, 61, 60, 53, 57, 58, 59, 82, 81, 80, 78, 79, 77, 85, 84, 88, 86, 83, 56, 87, 55, 54, 63, 64, 51, 46, 47, 49, 48, 42, 43, 45, 52, 44, 100, 99, 102, 101, 103, 9, 7, 3, 4, 2, 0]\n",
      "Total distance: 6382.7\n"
     ]
    }
   ],
   "execution_count": 7
  },
  {
   "metadata": {
    "ExecuteTime": {
     "end_time": "2025-05-04T04:48:30.293195Z",
     "start_time": "2025-05-04T04:48:30.280108Z"
    }
   },
   "cell_type": "code",
   "source": [
    "from ortools.sat.python import cp_model\n",
    "\n",
    "def solve_two_traveler_tsp(\n",
    "    tsp_matrix,\n",
    "    origins,\n",
    "    time_limit_sec=600,\n",
    "    num_workers=8\n",
    "):\n",
    "    \"\"\"\n",
    "    用 CP-SAT 求解“两人旅行商”：\n",
    "      - 两辆车从各自 origins[k] 出发并最终回到 origins[k]\n",
    "      - 所有节点（包括 origins）在两条回路的并集上被访问，且恰好访问一次\n",
    "      - 并行搜索 num_workers 线程，搜索总时限 time_limit_sec 秒\n",
    "\n",
    "    返回:\n",
    "      tours: [[...], [...]]  两辆车各自的访问序列，均以 origins[k] 开头、结束\n",
    "      total_dist: float     两条回路距离之和\n",
    "    \"\"\"\n",
    "    num_nodes = len(tsp_matrix)\n",
    "    K = len(origins)\n",
    "    model = cp_model.CpModel()\n",
    "\n",
    "    # 1) 决策变量 x[k,i,j]：第 k 辆车是否从 i → j\n",
    "    x = {}\n",
    "    for k in range(K):\n",
    "        for i in range(num_nodes):\n",
    "            for j in range(num_nodes):\n",
    "                if i != j:\n",
    "                    x[k, i, j] = model.NewBoolVar(f\"x[{k},{i},{j}]\")\n",
    "\n",
    "    # 2) 访问约束：除 origins 外，每个节点被恰好一次进入 & 退出\n",
    "    for i in range(num_nodes):\n",
    "        if i not in origins:\n",
    "            # 进入总次数=1\n",
    "            model.Add(\n",
    "                sum(x[k, j, i] for k in range(K) for j in range(num_nodes) if j != i)\n",
    "                == 1\n",
    "            )\n",
    "            # 退出总次数=1\n",
    "            model.Add(\n",
    "                sum(x[k, i, j] for k in range(K) for j in range(num_nodes) if j != i)\n",
    "                == 1\n",
    "            )\n",
    "\n",
    "    # 3) origins 出发／回到约束\n",
    "    for k, o in enumerate(origins):\n",
    "        # 该车从 o 出发且仅出发一次\n",
    "        model.Add(sum(x[k, o, j] for j in range(num_nodes) if j != o) == 1)\n",
    "        # 该车回到 o 且仅回到一次\n",
    "        model.Add(sum(x[k, i, o] for i in range(num_nodes) if i != o) == 1)\n",
    "        # 其他车辆不得经过 o\n",
    "        for k2 in range(K):\n",
    "            if k2 != k:\n",
    "                model.Add(sum(x[k2, o, j] for j in range(num_nodes) if j != o) == 0)\n",
    "                model.Add(sum(x[k2, i, o] for i in range(num_nodes) if i != o) == 0)\n",
    "\n",
    "    # 4) 流量守恒：非 origins 节点进入次数 = 退出次数\n",
    "    for k in range(K):\n",
    "        for i in range(num_nodes):\n",
    "            if i not in origins:\n",
    "                model.Add(\n",
    "                    sum(x[k, j, i] for j in range(num_nodes) if j != i)\n",
    "                    == sum(x[k, i, j] for j in range(num_nodes) if j != i)\n",
    "                )\n",
    "\n",
    "    # 5) MTZ 子回路消除（Miller–Tucker–Zemlin 变量）\n",
    "    #    origins 的 u 定为 0，其它节点 u ∈ [1, num_nodes-1]\n",
    "    u = {}\n",
    "    for k in range(K):\n",
    "        for i in range(num_nodes):\n",
    "            if i in origins:\n",
    "                u[k, i] = model.NewConstant(0)\n",
    "            else:\n",
    "                u[k, i] = model.NewIntVar(1, num_nodes - 1, f\"u[{k},{i}]\")\n",
    "    #    对每条可能用到的弧 i→j 添加 MTZ 约束\n",
    "    big_M = num_nodes\n",
    "    for k in range(K):\n",
    "        for i in range(num_nodes):\n",
    "            for j in range(num_nodes):\n",
    "                if i != j:\n",
    "                    # u[i] + 1 ≤ u[j] + M*(1 − x[i,j])\n",
    "                    model.Add(\n",
    "                        u[k, i] + 1 <= u[k, j] + big_M * (1 - x[k, i, j])\n",
    "                    )\n",
    "\n",
    "    # 6) 目标：最小化两条回路总距离\n",
    "    obj_terms = []\n",
    "    for k in range(K):\n",
    "        for i in range(num_nodes):\n",
    "            for j in range(num_nodes):\n",
    "                if i != j:\n",
    "                    # 浮点放大 10 倍取整\n",
    "                    cost = int(tsp_matrix[i][j] * 10)\n",
    "                    obj_terms.append(cost * x[k, i, j])\n",
    "    model.Minimize(sum(obj_terms))\n",
    "\n",
    "    # 7) 求解器设置\n",
    "    solver = cp_model.CpSolver()\n",
    "    solver.parameters.max_time_in_seconds = time_limit_sec\n",
    "    solver.parameters.num_search_workers = num_workers\n",
    "    # solver.parameters.log_search_progress = True  # 如需调试时打开\n",
    "\n",
    "    status = solver.Solve(model)\n",
    "    if status not in (cp_model.OPTIMAL, cp_model.FEASIBLE):\n",
    "        return None, None\n",
    "\n",
    "    # 8) 提取回路\n",
    "    tours = []\n",
    "    for k, o in enumerate(origins):\n",
    "        tour = [o]\n",
    "        curr = o\n",
    "        visited = {o}\n",
    "        while True:\n",
    "            nxt = None\n",
    "            for j in range(num_nodes):\n",
    "                if j != curr and solver.Value(x[k, curr, j]) == 1:\n",
    "                    nxt = j\n",
    "                    break\n",
    "            if nxt is None or nxt == o:\n",
    "                break\n",
    "            tour.append(nxt)\n",
    "            visited.add(nxt)\n",
    "            curr = nxt\n",
    "        tour.append(o)\n",
    "        tours.append(tour)\n",
    "\n",
    "    total_dist = solver.ObjectiveValue() / 10.0\n",
    "    return tours, total_dist\n",
    "\n",
    "\n",
    "# ------------ 测试示例 ------------\n",
    "if __name__ == \"__main__\":\n",
    "    matrix = [\n",
    "        [0, 2.5, 9.0, 3.1, 7.2],\n",
    "        [2.5, 0, 4.4, 8.5, 1.9],\n",
    "        [9.0, 4.4, 0, 6.6, 5.5],\n",
    "        [3.1, 8.5, 6.6, 0, 2.2],\n",
    "        [7.2, 1.9, 5.5, 2.2, 0],\n",
    "    ]\n",
    "    origins = [0, 1]  # 旅行者 A 从节点 0 出发；B 从节点 1 出发\n",
    "    tours, dist = solve_two_traveler_tsp(\n",
    "        matrix, origins, time_limit_sec=60, num_workers=4\n",
    "    )\n",
    "    print(\"Tours:\", tours)\n",
    "    print(\"Total distance:\", dist)\n"
   ],
   "id": "b9f18806b1295725",
   "outputs": [
    {
     "name": "stdout",
     "output_type": "stream",
     "text": [
      "Tours: None\n",
      "Total distance: None\n"
     ]
    }
   ],
   "execution_count": 16
  },
  {
   "metadata": {
    "ExecuteTime": {
     "end_time": "2025-05-04T04:59:31.783339Z",
     "start_time": "2025-05-04T04:59:31.716337Z"
    }
   },
   "cell_type": "code",
   "source": [
    "from ortools.constraint_solver import pywrapcp, routing_enums_pb2\n",
    "\n",
    "def solve_2tsp_approx(\n",
    "    tsp_matrix,\n",
    "    origins,\n",
    "    solution_limit=100,\n",
    "    time_limit_sec=600\n",
    "):\n",
    "    \"\"\"\n",
    "    用 OR-Tools Routing API 求两旅行商 TSP 的近似解。\n",
    "\n",
    "    参数:\n",
    "      tsp_matrix     : NxN 距离矩阵（float 或 int）\n",
    "      origins         : 长度为 2 的列表 [o0, o1]，表示两旅行商的起／终点节点索引\n",
    "      solution_limit : 最多收集多少个可行解就停止\n",
    "      time_limit_sec : 搜索总时限（秒）\n",
    "\n",
    "    返回:\n",
    "      tours          : [[o0, …, o0], [o1, …, o1]] 两条回路\n",
    "      total_distance : 两条回路距离之和（同 tsp_matrix 单位）\n",
    "    \"\"\"\n",
    "    n = len(tsp_matrix)\n",
    "    # 1) 管理器 & 模型：2 辆车，从 origins[k] 出发回到 origins[k]\n",
    "    manager = pywrapcp.RoutingIndexManager(n, 2, origins, origins)\n",
    "    routing = pywrapcp.RoutingModel(manager)\n",
    "\n",
    "    # 2) 距离回调（浮点×10 转整型）\n",
    "    def dist_cb(from_idx, to_idx):\n",
    "        i = manager.IndexToNode(from_idx)\n",
    "        j = manager.IndexToNode(to_idx)\n",
    "        return int(tsp_matrix[i][j] * 10)\n",
    "    transit_idx = routing.RegisterTransitCallback(dist_cb)\n",
    "    routing.SetArcCostEvaluatorOfAllVehicles(transit_idx)\n",
    "\n",
    "    # 3) 搜索参数：快速可行 + 元启发式局部搜索 + 限制\n",
    "    params = pywrapcp.DefaultRoutingSearchParameters()\n",
    "    params.first_solution_strategy = (\n",
    "        routing_enums_pb2.FirstSolutionStrategy.PATH_CHEAPEST_ARC\n",
    "    )      # :contentReference[oaicite:0]{index=0}\n",
    "    params.local_search_metaheuristic = (\n",
    "        routing_enums_pb2.LocalSearchMetaheuristic.GUIDED_LOCAL_SEARCH\n",
    "    )      # :contentReference[oaicite:1]{index=1}\n",
    "    params.solution_limit = solution_limit\n",
    "    params.time_limit.seconds = time_limit_sec  # :contentReference[oaicite:2]{index=2}\n",
    "\n",
    "    # 4) 求解\n",
    "    sol = routing.SolveWithParameters(params)\n",
    "    if not sol:\n",
    "        return None, None\n",
    "\n",
    "    # 5) 提取两条回路\n",
    "    tours = []\n",
    "    total_cost = 0\n",
    "    for vehicle_id in range(2):\n",
    "        idx = routing.Start(vehicle_id)\n",
    "        tour = []\n",
    "        while not routing.IsEnd(idx):\n",
    "            tour.append(manager.IndexToNode(idx))\n",
    "            next_idx = sol.Value(routing.NextVar(idx))\n",
    "            cost = routing.GetArcCostForVehicle(idx, next_idx, vehicle_id)\n",
    "            total_cost += cost\n",
    "            idx = next_idx\n",
    "        tour.append(manager.IndexToNode(idx))  # 回到起点\n",
    "        tours.append(tour)\n",
    "\n",
    "    # 把放大 10 倍的距离除回去\n",
    "    return tours, total_cost / 10.0\n",
    "\n",
    "\n",
    "# ----- 示例调用 -----\n",
    "if __name__ == \"__main__\":\n",
    "    matrix = np.random.randint(1, 100, size=(20, 20))\n",
    "    np.fill_diagonal(matrix, 0)\n",
    "    origins = [0, 1]  # 旅行商 A 从 0 出发回到 0，B 从 1 出发回到 1\n",
    "    tours, dist = solve_2tsp_approx(matrix, origins,\n",
    "                                   solution_limit=50,\n",
    "                                   time_limit_sec=600)\n",
    "    print(\"近似回路 A:\", tours[0])\n",
    "    print(\"近似回路 B:\", tours[1])\n",
    "    print(\"总距离:\", dist)\n"
   ],
   "id": "c606b6bd13d37363",
   "outputs": [
    {
     "name": "stdout",
     "output_type": "stream",
     "text": [
      "近似回路 A: [0, 0]\n",
      "近似回路 B: [1, 2, 16, 8, 14, 19, 15, 17, 6, 11, 4, 10, 5, 18, 12, 13, 9, 3, 7, 1]\n",
      "总距离: 172.0\n"
     ]
    }
   ],
   "execution_count": 27
  },
  {
   "metadata": {},
   "cell_type": "markdown",
   "source": "# 第二问",
   "id": "62ae7d5edbe290af"
  },
  {
   "metadata": {},
   "cell_type": "markdown",
   "source": "## 一体化",
   "id": "c8c520d602ca18de"
  },
  {
   "metadata": {},
   "cell_type": "markdown",
   "source": "### 找出最远的两个点",
   "id": "f52c2faecc73a362"
  },
  {
   "metadata": {
    "ExecuteTime": {
     "end_time": "2025-05-04T05:42:54.592943Z",
     "start_time": "2025-05-04T05:42:54.587021Z"
    }
   },
   "cell_type": "code",
   "source": [
    "max_dis = 0\n",
    "max_i = 0\n",
    "max_j = 0\n",
    "for i in range(np.shape(data)[0]):\n",
    "    for j in range(np.shape(data)[0]):\n",
    "        if data[i][j] > max_dis:\n",
    "            max_dis = data[i][j]\n",
    "            max_i = i\n",
    "            max_j = j\n",
    "\n",
    "\n",
    "print(max_dis)\n",
    "print(max_i)\n",
    "print(max_j)"
   ],
   "id": "558ddd8e09d58940",
   "outputs": [
    {
     "name": "stdout",
     "output_type": "stream",
     "text": [
      "1296.6\n",
      "96\n",
      "79\n"
     ]
    }
   ],
   "execution_count": 22
  },
  {
   "metadata": {
    "ExecuteTime": {
     "end_time": "2025-05-04T10:04:05.269668Z",
     "start_time": "2025-05-04T10:04:05.039133Z"
    }
   },
   "cell_type": "code",
   "source": [
    "from ortools.sat.python import cp_model\n",
    "\n",
    "def solve_two_traveler_tsp_csats(\n",
    "    tsp_matrix,\n",
    "    origins=(0, 1),\n",
    "    time_limit_sec=600,\n",
    "    num_workers=20\n",
    "):\n",
    "    \"\"\"\n",
    "    一体化 CP-SAT 解两旅行商 TSP 的函数（修正 MTZ 子回路消除范围）。\n",
    "\n",
    "    参数:\n",
    "      tsp_matrix     : NxN 距离矩阵（float 或 int）\n",
    "      origins         : 二元组 (o0, o1)，两旅行商的出发/回到节点索引\n",
    "      time_limit_sec : 搜索总时限（秒）\n",
    "      num_workers    : 并行线程数\n",
    "\n",
    "    返回:\n",
    "      tours          : [[o0,…,o0], [o1,…,o1]] 两条回路\n",
    "      total_distance : 两回路距离之和（浮点数）\n",
    "    \"\"\"\n",
    "    n = len(tsp_matrix)\n",
    "    o0, o1 = origins\n",
    "    model = cp_model.CpModel()\n",
    "\n",
    "    # 1) x[k,i,j]: 第 k 位旅行者是否走 i->j\n",
    "    x = {}\n",
    "    for k in (0, 1):\n",
    "        for i in range(n):\n",
    "            for j in range(n):\n",
    "                if i != j:\n",
    "                    x[k, i, j] = model.NewBoolVar(f\"x[{k},{i},{j}]\")\n",
    "\n",
    "    # 2) “非起点”节点恰访问一次\n",
    "    for i in range(n):\n",
    "        if i not in origins:\n",
    "            model.Add(\n",
    "                sum(x[k, j, i] for k in (0,1) for j in range(n) if j != i) == 1\n",
    "            )\n",
    "            model.Add(\n",
    "                sum(x[k, i, j] for k in (0,1) for j in range(n) if j != i) == 1\n",
    "            )\n",
    "\n",
    "    # 3) 起点/终点约束 & 互斥访问\n",
    "    for k, o in enumerate(origins):\n",
    "        # 从 o 出发一次，回到 o 一次\n",
    "        model.Add(sum(x[k, o, j] for j in range(n) if j != o) == 1)\n",
    "        model.Add(sum(x[k, i, o] for i in range(n) if i != o) == 1)\n",
    "        # 另一旅行商不得经过 o\n",
    "        k2 = 1 - k\n",
    "        model.Add(sum(x[k2, o, j] for j in range(n) if j != o) == 0)\n",
    "        model.Add(sum(x[k2, i, o] for i in range(n) if i != o) == 0)\n",
    "\n",
    "    # 4) 流量守恒：中间点进 = 出\n",
    "    for k in (0,1):\n",
    "        for i in range(n):\n",
    "            if i not in origins:\n",
    "                model.Add(\n",
    "                    sum(x[k, j, i] for j in range(n) if j != i)\n",
    "                    == sum(x[k, i, j] for j in range(n) if j != i)\n",
    "                )\n",
    "\n",
    "    # 5) MTZ 子回路消除——仅对 i,j 都不是 origin 的弧加约束\n",
    "    M = n\n",
    "    u = {}\n",
    "    for k in (0,1):\n",
    "        for i in range(n):\n",
    "            if i in origins:\n",
    "                u[k, i] = model.NewConstant(0)\n",
    "            else:\n",
    "                u[k, i] = model.NewIntVar(1, n-1, f\"u[{k},{i}]\")\n",
    "\n",
    "    for k in (0,1):\n",
    "        for i in range(n):\n",
    "            for j in range(n):\n",
    "                # 只对“中间节点间”的弧 i->j 加 MTZ\n",
    "                if i not in origins and j not in origins and i != j:\n",
    "                    model.Add(\n",
    "                        u[k, i] + 1 <= u[k, j] + M * (1 - x[k, i, j])\n",
    "                    )\n",
    "\n",
    "    # 6) 目标：最小化总距离\n",
    "    terms = []\n",
    "    for k in (0,1):\n",
    "        for i in range(n):\n",
    "            for j in range(n):\n",
    "                if i != j:\n",
    "                    cost = int(tsp_matrix[i][j] * 10)\n",
    "                    terms.append(cost * x[k, i, j])\n",
    "    model.Minimize(sum(terms))\n",
    "\n",
    "    # 7) 求解器配置\n",
    "    solver = cp_model.CpSolver()\n",
    "    solver.parameters.max_time_in_seconds = time_limit_sec\n",
    "    solver.parameters.num_search_workers    = num_workers\n",
    "\n",
    "    status = solver.Solve(model)\n",
    "    if status not in (cp_model.OPTIMAL, cp_model.FEASIBLE):\n",
    "        return None, None\n",
    "\n",
    "    # 8) 提取回路\n",
    "    tours = []\n",
    "    for k, o in enumerate(origins):\n",
    "        path = [o]\n",
    "        curr = o\n",
    "        while True:\n",
    "            nxt = None\n",
    "            for j in range(n):\n",
    "                if j != curr and solver.Value(x[k, curr, j]) == 1:\n",
    "                    nxt = j\n",
    "                    break\n",
    "            if nxt is None or nxt == o:\n",
    "                break\n",
    "            path.append(nxt)\n",
    "            curr = nxt\n",
    "        path.append(o)\n",
    "        tours.append(path)\n",
    "\n",
    "    total_dist = solver.ObjectiveValue() / 10\n",
    "    return tours, total_dist\n",
    "\n",
    "import numpy as np\n",
    "import time\n",
    "from ortools.sat.python import cp_model\n",
    "\n",
    "def test_solve_two_traveler_tsp_csats():\n",
    "    # 生成一个20x20的随机距离矩阵\n",
    "    # np.random.seed(42)  # 设置随机种子以便结果可复现\n",
    "    n = 20\n",
    "    matrix = np.random.randint(500, 1000, size=(n, n)).astype(float)\n",
    "    # matrix = data\n",
    "    # 确保对角线为0（自己到自己的距离为0）\n",
    "    np.fill_diagonal(matrix, 0)\n",
    "\n",
    "    # # 确保矩阵是对称的（可选，取决于您的问题设置）\n",
    "    # for i in range(n):\n",
    "    #     for j in range(i+1, n):\n",
    "    #         matrix[j, i] = matrix[i, j]\n",
    "\n",
    "    # 设置起点\n",
    "    origins = (1, 2)  # 第一个旅行者从0出发，第二个从1出发\n",
    "\n",
    "    print(f\"测试矩阵大小: {n}x{n}\")\n",
    "    print(f\"起点设置: {origins}\")\n",
    "\n",
    "    # 记录开始时间\n",
    "    start_time = time.time()\n",
    "\n",
    "    # 调用求解函数\n",
    "    tours, total_distance = solve_two_traveler_tsp_csats(\n",
    "        matrix,\n",
    "        origins=origins,\n",
    "        time_limit_sec=120,  # 2分钟时间限制\n",
    "        num_workers=20        # 4个并行线程\n",
    "    )\n",
    "\n",
    "    # 计算耗时\n",
    "    elapsed_time = time.time() - start_time\n",
    "\n",
    "    # 输出结果\n",
    "    if tours is not None:\n",
    "        print(\"\\n求解成功!\")\n",
    "        print(f\"求解耗时: {elapsed_time:.2f} 秒\")\n",
    "        print(f\"总距离: {total_distance:.2f}\")\n",
    "        print(f\"旅行者1路径: {tours[0]}\")\n",
    "        print(f\"旅行者2路径: {tours[1]}\")\n",
    "\n",
    "        # 验证每个节点是否被恰好访问一次\n",
    "        all_nodes = set(range(n))\n",
    "        visited = set()\n",
    "        for tour in tours:\n",
    "            # 去掉每个路径中的最后一个节点（回到起点）\n",
    "            for node in tour[:-1]:\n",
    "                visited.add(node)\n",
    "\n",
    "        missed = all_nodes - visited\n",
    "        if missed:\n",
    "            print(f\"警告: 有节点未被访问: {missed}\")\n",
    "        else:\n",
    "            print(\"验证成功: 所有节点均被访问一次\")\n",
    "    else:\n",
    "        print(\"\\n未找到可行解\")\n",
    "        print(f\"耗时: {elapsed_time:.2f} 秒\")\n",
    "\n",
    "if __name__ == \"__main__\":\n",
    "    test_solve_two_traveler_tsp_csats()\n"
   ],
   "id": "9b0aa71ce1adf211",
   "outputs": [
    {
     "name": "stdout",
     "output_type": "stream",
     "text": [
      "测试矩阵大小: 20x20\n",
      "起点设置: (1, 2)\n",
      "\n",
      "求解成功!\n",
      "求解耗时: 0.22 秒\n",
      "总距离: 10641.00\n",
      "旅行者1路径: [1, 9, 12, 0, 10, 19, 13, 5, 4, 11, 17, 1]\n",
      "旅行者2路径: [2, 6, 7, 18, 15, 8, 16, 3, 14, 2]\n",
      "验证成功: 所有节点均被访问一次\n"
     ]
    }
   ],
   "execution_count": 11
  },
  {
   "metadata": {},
   "cell_type": "markdown",
   "source": "### 真实数据",
   "id": "3c1fabb984373840"
  },
  {
   "metadata": {
    "ExecuteTime": {
     "end_time": "2025-05-04T10:24:33.222793Z",
     "start_time": "2025-05-04T10:04:28.735691Z"
    }
   },
   "cell_type": "code",
   "source": [
    "n = 107\n",
    "origins = (96, 79)\n",
    "# print(f\"测试矩阵大小: {n}x{n}\")\n",
    "print(f\"起点设置: {origins}\")\n",
    "# 记录开始时间\n",
    "start_time = time.time()\n",
    "\n",
    "# 调用求解函数\n",
    "tours, total_distance = solve_two_traveler_tsp_csats(\n",
    "    data,\n",
    "    origins=origins,\n",
    "    time_limit_sec=1200,  # 10分钟时间限制\n",
    "    num_workers=24        # 20个并行线程\n",
    ")\n",
    "\n",
    "elapsed_time = time.time() - start_time\n",
    "\n",
    "if tours is not None:\n",
    "    print(\"\\n求解成功!\")\n",
    "    print(f\"求解耗时: {elapsed_time:.2f} 秒\")\n",
    "    print(f\"总距离: {total_distance:.2f}\")\n",
    "    print(f\"旅行者1路径: {tours[0]}\")\n",
    "    print(f\"旅行者2路径: {tours[1]}\")\n",
    "\n",
    "    # 验证每个节点是否被恰好访问一次\n",
    "    all_nodes = set(range(n))\n",
    "    visited = set()\n",
    "    for tour in tours:\n",
    "        # 去掉每个路径中的最后一个节点（回到起点）\n",
    "        for node in tour[:-1]:\n",
    "            visited.add(node)\n",
    "\n",
    "    missed = all_nodes - visited\n",
    "    if missed:\n",
    "        print(f\"警告: 有节点未被访问: {missed}\")\n",
    "    else:\n",
    "        print(\"验证成功: 所有节点均被访问一次\")\n",
    "else:\n",
    "    print(\"\\n未找到可行解\")\n",
    "    print(f\"耗时: {elapsed_time:.2f} 秒\")"
   ],
   "id": "35bad8359f992af9",
   "outputs": [
    {
     "name": "stdout",
     "output_type": "stream",
     "text": [
      "起点设置: (96, 79)\n",
      "\n",
      "求解成功!\n",
      "求解耗时: 1204.48 秒\n",
      "总距离: 6172.10\n",
      "旅行者1路径: [96, 94, 89, 90, 93, 74, 70, 91, 92, 76, 69, 68, 66, 67, 72, 73, 71, 75, 27, 18, 17, 24, 25, 20, 19, 28, 23, 21, 26, 22, 40, 10, 11, 30, 29, 41, 106, 34, 33, 35, 36, 37, 38, 39, 32, 31, 12, 6, 50, 15, 13, 14, 16, 65, 62, 61, 60, 53, 57, 58, 59, 82, 81, 80, 77, 85, 84, 88, 86, 83, 56, 87, 55, 54, 63, 64, 51, 46, 47, 49, 48, 42, 43, 45, 52, 44, 100, 99, 102, 101, 103, 9, 7, 3, 4, 2, 0, 1, 5, 8, 105, 104, 97, 98, 95, 96]\n",
      "旅行者2路径: [79, 78, 79]\n",
      "验证成功: 所有节点均被访问一次\n"
     ]
    }
   ],
   "execution_count": 12
  },
  {
   "metadata": {},
   "cell_type": "markdown",
   "source": "## 聚类",
   "id": "5f14aa84eb69996c"
  },
  {
   "metadata": {
    "ExecuteTime": {
     "end_time": "2025-05-04T06:47:41.267404Z",
     "start_time": "2025-05-04T06:47:41.179481Z"
    }
   },
   "cell_type": "code",
   "source": [
    "import numpy as np\n",
    "from sklearn.cluster import AgglomerativeClustering\n",
    "\n",
    "def split_into_two_subgraphs(data):\n",
    "    \"\"\"\n",
    "    将给定的距离矩阵 data 划分成两簇子图，返回各自的节点索引和子距离矩阵。\n",
    "\n",
    "    参数:\n",
    "      data : (N, N) 距离矩阵（NumPy 数组或等价类型），需满足 data[i,i]=0 且对称\n",
    "\n",
    "    返回:\n",
    "      idx_a, idx_b : 分到子图 A、B 的原始节点索引列表\n",
    "      data_a, data_b : 分别对应的子距离矩阵，形状 (len(idx_a), len(idx_a)) 和 (len(idx_b), len(idx_b))\n",
    "    \"\"\"\n",
    "    # 确保是 NumPy 数组\n",
    "    data = np.array(data)\n",
    "    n = data.shape[0]\n",
    "    if data.shape[1] != n:\n",
    "        raise ValueError(\"输入矩阵必须是方阵\")\n",
    "\n",
    "    # 1) 用层次聚类（预计算距离）划分成两簇\n",
    "    model = AgglomerativeClustering(\n",
    "        n_clusters=2,\n",
    "        metric=\"precomputed\",   # 直接使用距离矩阵\n",
    "        linkage=\"average\"       # 平均距离合并\n",
    "    )\n",
    "    labels = model.fit_predict(data)\n",
    "\n",
    "    # 2) 提取每簇的节点索引\n",
    "    idx_a = np.where(labels == 0)[0].tolist()\n",
    "    idx_b = np.where(labels == 1)[0].tolist()\n",
    "\n",
    "    # 3) 构造子距离矩阵\n",
    "    data_a = data[np.ix_(idx_a, idx_a)]\n",
    "    data_b = data[np.ix_(idx_b, idx_b)]\n",
    "\n",
    "    return idx_a, idx_b, data_a, data_b\n",
    "\n",
    "# --------- 示例使用 ----------\n",
    "if __name__ == \"__main__\":\n",
    "    # 假设有一个 5x5 距离矩阵 data\n",
    "    data = [\n",
    "        [0.0, 2.1, 3.5, 4.0, 1.8],\n",
    "        [2.1, 0.0, 2.0, 3.2, 2.5],\n",
    "        [3.5, 2.0, 0.0, 1.7, 3.1],\n",
    "        [4.0, 3.2, 1.7, 0.0, 2.2],\n",
    "        [1.8, 2.5, 3.1, 2.2, 0.0],\n",
    "    ]\n",
    "    idx_a, idx_b, data_a, data_b = split_into_two_subgraphs(data)\n",
    "    print(\"子图 A 节点索引：\", idx_a)\n",
    "    print(\"子图 B 节点索引：\", idx_b)\n",
    "    print(\"子图 A 距离矩阵：\\n\", data_a)\n",
    "    print(\"子图 B 距离矩阵：\\n\", data_b)\n"
   ],
   "id": "b8f2591963c5274d",
   "outputs": [
    {
     "name": "stdout",
     "output_type": "stream",
     "text": [
      "子图 A 节点索引： [0, 1, 4]\n",
      "子图 B 节点索引： [2, 3]\n",
      "子图 A 距离矩阵：\n",
      " [[0.  2.1 1.8]\n",
      " [2.1 0.  2.5]\n",
      " [1.8 2.5 0. ]]\n",
      "子图 B 距离矩阵：\n",
      " [[0.  1.7]\n",
      " [1.7 0. ]]\n"
     ]
    }
   ],
   "execution_count": 45
  },
  {
   "metadata": {
    "ExecuteTime": {
     "end_time": "2025-05-04T06:49:01.892464Z",
     "start_time": "2025-05-04T06:49:01.887042Z"
    }
   },
   "cell_type": "code",
   "source": [
    "idx_a, idx_b, data_a, data_b = split_into_two_subgraphs(data)\n",
    "print(len(idx_a))\n",
    "# print(idx_b)"
   ],
   "id": "6886c88727c57e77",
   "outputs": [
    {
     "name": "stdout",
     "output_type": "stream",
     "text": [
      "86\n"
     ]
    }
   ],
   "execution_count": 50
  },
  {
   "metadata": {},
   "cell_type": "markdown",
   "source": "## 分别使用",
   "id": "d0e7073b39861366"
  },
  {
   "metadata": {
    "ExecuteTime": {
     "end_time": "2025-05-04T06:51:20.276478Z",
     "start_time": "2025-05-04T06:51:15.035450Z"
    }
   },
   "cell_type": "code",
   "source": [
    "tour_a, total_distance_a = solve_tsp_ortools_new(data_a)\n",
    "\n",
    "if tour:\n",
    "    print(\"Optimal tour:\", tour_a)\n",
    "    print(\"Total distance:\", total_distance_a)\n",
    "else:\n",
    "    print(\"No solution found.\")"
   ],
   "id": "2ab997fe37c1f4f8",
   "outputs": [
    {
     "name": "stdout",
     "output_type": "stream",
     "text": [
      "Optimal tour: [0, 1, 5, 8, 84, 83, 76, 77, 74, 75, 73, 68, 69, 72, 65, 61, 70, 71, 67, 60, 59, 57, 58, 63, 64, 62, 66, 27, 18, 17, 24, 25, 20, 19, 28, 23, 21, 26, 22, 40, 10, 11, 30, 29, 41, 85, 34, 33, 35, 36, 37, 38, 39, 32, 31, 12, 6, 50, 15, 13, 14, 16, 56, 53, 54, 55, 51, 46, 47, 49, 48, 42, 43, 45, 52, 44, 79, 78, 81, 80, 82, 9, 7, 3, 4, 2, 0]\n",
      "Total distance: 4724.1\n"
     ]
    }
   ],
   "execution_count": 56
  },
  {
   "metadata": {
    "ExecuteTime": {
     "end_time": "2025-05-04T06:51:22.648582Z",
     "start_time": "2025-05-04T06:51:22.593455Z"
    }
   },
   "cell_type": "code",
   "source": [
    "tour_b, total_distance_b = solve_tsp_ortools_new(data_b)\n",
    "\n",
    "if tour:\n",
    "    print(\"Optimal tour:\", tour_b)\n",
    "    print(\"Total distance:\", total_distance_b)\n",
    "else:\n",
    "    print(\"No solution found.\")"
   ],
   "id": "1f425cd1c9bdfaf9",
   "outputs": [
    {
     "name": "stdout",
     "output_type": "stream",
     "text": [
      "Optimal tour: [0, 1, 2, 19, 3, 15, 18, 20, 16, 17, 9, 10, 11, 12, 13, 14, 6, 5, 4, 7, 8, 0]\n",
      "Total distance: 1773.8\n"
     ]
    }
   ],
   "execution_count": 57
  },
  {
   "metadata": {
    "ExecuteTime": {
     "end_time": "2025-05-04T06:52:57.200989Z",
     "start_time": "2025-05-04T06:52:57.197507Z"
    }
   },
   "cell_type": "code",
   "source": [
    "tour_a_real = [idx_a[i] for i in tour_a]\n",
    "tour_b_real = [idx_b[i] for i in tour_b]\n",
    "print(tour_a_real)\n",
    "print(tour_b_real)\n",
    "print(total_distance_a + total_distance_b)"
   ],
   "id": "d7f4f9955ba22e55",
   "outputs": [
    {
     "name": "stdout",
     "output_type": "stream",
     "text": [
      "[0, 1, 5, 8, 105, 104, 97, 98, 95, 96, 94, 89, 90, 93, 74, 70, 91, 92, 76, 69, 68, 66, 67, 72, 73, 71, 75, 27, 18, 17, 24, 25, 20, 19, 28, 23, 21, 26, 22, 40, 10, 11, 30, 29, 41, 106, 34, 33, 35, 36, 37, 38, 39, 32, 31, 12, 6, 50, 15, 13, 14, 16, 65, 62, 63, 64, 51, 46, 47, 49, 48, 42, 43, 45, 52, 44, 100, 99, 102, 101, 103, 9, 7, 3, 4, 2, 0]\n",
      "[53, 54, 55, 87, 56, 83, 86, 88, 84, 85, 77, 78, 79, 80, 81, 82, 59, 58, 57, 60, 61, 53]\n",
      "6497.900000000001\n"
     ]
    }
   ],
   "execution_count": 59
  },
  {
   "metadata": {},
   "cell_type": "markdown",
   "source": "## 使用裁剪的方法",
   "id": "1404133ec650f28d"
  },
  {
   "metadata": {
    "ExecuteTime": {
     "end_time": "2025-05-04T12:24:17.346195Z",
     "start_time": "2025-05-04T12:24:17.326663Z"
    }
   },
   "cell_type": "code",
   "source": [
    "one_tr_tour = [0, 1, 5, 8, 105, 104, 97, 98, 95, 96, 94, 89, 90, 93, 74, 70, 91, 92, 76, 69, 68, 66, 67, 72, 73, 71, 75, 27, 18, 17, 24, 25, 20, 19, 28, 23, 21, 26, 22, 40, 10, 11, 30, 29, 41, 106, 34, 33, 35, 36, 37, 38, 39, 32, 31, 12, 6, 50, 15, 13, 14, 16, 65, 62, 61, 60, 53, 57, 58, 59, 82, 81, 80, 78, 79, 77, 85, 84, 88, 86, 83, 56, 87, 55, 54, 63, 64, 51, 46, 47, 49, 48, 42, 43, 45, 52, 44, 100, 99, 102, 101, 103, 9, 7, 3, 4, 2]\n",
    "\n",
    "extra_cost = []\n",
    "max_cost = 0\n",
    "best_split = None\n",
    "for i in range(107):\n",
    "    for j in range(107):\n",
    "        id1 = i\n",
    "        id2 = (i + 1) % 107\n",
    "        id3 = j\n",
    "        id4 = (j + 1) % 107\n",
    "        if id1 == id3 or id1 == id4 or id2 == id3 or id2 == id4:\n",
    "            continue\n",
    "        cost = data[one_tr_tour[id1]][one_tr_tour[id2]] + data[one_tr_tour[id3]][one_tr_tour[id4]] - data[one_tr_tour[id1]][one_tr_tour[id4]] - data[one_tr_tour[id3]][one_tr_tour[id2]]\n",
    "        extra_cost.append(cost)\n",
    "        if cost > max_cost:\n",
    "            max_cost = cost\n",
    "            best_split = (one_tr_tour[id1], one_tr_tour[id2], one_tr_tour[id3], one_tr_tour[id4])\n",
    "\n",
    "extra_cost = sorted(extra_cost)\n",
    "print(extra_cost[0], extra_cost[-1])\n",
    "print(best_split)"
   ],
   "id": "bc1b8360fa525f78",
   "outputs": [
    {
     "name": "stdout",
     "output_type": "stream",
     "text": [
      "-2196.9 210.59999999999997\n",
      "(80, 78, 79, 77)\n"
     ]
    }
   ],
   "execution_count": 42
  },
  {
   "metadata": {},
   "cell_type": "markdown",
   "source": "## 便宜",
   "id": "eadf75e69ea80052"
  },
  {
   "metadata": {
    "ExecuteTime": {
     "end_time": "2025-05-04T10:36:19.365352Z",
     "start_time": "2025-05-04T10:36:19.358850Z"
    }
   },
   "cell_type": "code",
   "source": [
    "def solve_tsp_insertion(tsp_matrix):\n",
    "    \"\"\"\n",
    "    使用“最便宜插入”（Cheapest Insertion）启发式算法求解满足三角不等式的正权 TSP。\n",
    "\n",
    "    参数:\n",
    "        tsp_matrix: NxN 的距离矩阵（正实数或整数），满足 d[i][j] = d[j][i], d[i][i] = 0\n",
    "\n",
    "    返回:\n",
    "        tour: 按访问顺序列出的节点索引列表（首尾相同），如 [0, 2, 5, 1, 0]\n",
    "        total_distance: 对应回路的总距离\n",
    "    \"\"\"\n",
    "    n = len(tsp_matrix)\n",
    "    if n == 0:\n",
    "        return [], 0\n",
    "    if n == 1:\n",
    "        return [0, 0], 0\n",
    "\n",
    "    # 初始回路：从节点 0 到节点 1 回到 0\n",
    "    tour = [3, 4, 3]\n",
    "    remaining = set(range(n)) - {0, 1}\n",
    "\n",
    "    # 不断插入最便宜的节点\n",
    "    while remaining:\n",
    "        best_node = None\n",
    "        best_pos = None\n",
    "        best_increase = float('inf')\n",
    "\n",
    "        # 遍历每个待插入节点\n",
    "        for node in remaining:\n",
    "            # 尝试插入到 tour 的每一条边 (i -> j) 之间\n",
    "            for i in range(len(tour) - 1):\n",
    "                u, v = tour[i], tour[i+1]\n",
    "                increase = (\n",
    "                    tsp_matrix[u][node]\n",
    "                    + tsp_matrix[node][v]\n",
    "                    - tsp_matrix[u][v]\n",
    "                )\n",
    "                if increase < best_increase:\n",
    "                    best_increase = increase\n",
    "                    best_node = node\n",
    "                    best_pos = i + 1\n",
    "\n",
    "        # 在最佳位置插入该节点\n",
    "        tour.insert(best_pos, best_node)\n",
    "        remaining.remove(best_node)\n",
    "\n",
    "    # 计算总距离\n",
    "    total_distance = sum(\n",
    "        tsp_matrix[tour[i]][tour[i+1]] for i in range(len(tour) - 1)\n",
    "    )\n",
    "\n",
    "    return tour, total_distance\n",
    "\n",
    "\n",
    "# 示例调用\n",
    "if __name__ == \"__main__\":\n",
    "    matrix = [\n",
    "        [0,   2.1, 3.5, 4.0, 1.8],\n",
    "        [2.1, 0,   2.0, 3.2, 2.5],\n",
    "        [3.5, 2.0, 0,   1.7, 3.1],\n",
    "        [4.0, 3.2, 1.7, 0,   2.2],\n",
    "        [1.8, 2.5, 3.1, 2.2, 0  ],\n",
    "    ]\n",
    "    tour, dist = solve_tsp_insertion(matrix)\n",
    "    print(\"插入法回路：\", tour)\n",
    "    print(\"总距离：\", dist)\n"
   ],
   "id": "3408c505b1be73e1",
   "outputs": [
    {
     "name": "stdout",
     "output_type": "stream",
     "text": [
      "插入法回路： [3, 3, 2, 4, 4, 3]\n",
      "总距离： 7.0\n"
     ]
    }
   ],
   "execution_count": 16
  },
  {
   "metadata": {
    "ExecuteTime": {
     "end_time": "2025-05-04T10:36:22.069772Z",
     "start_time": "2025-05-04T10:36:21.978819Z"
    }
   },
   "cell_type": "code",
   "source": [
    "tour, dist = solve_tsp_insertion(data)\n",
    "print(\"插入法回路：\", tour)\n",
    "print(\"总距离：\", dist)"
   ],
   "id": "c54c9f49a94ad4f8",
   "outputs": [
    {
     "name": "stdout",
     "output_type": "stream",
     "text": [
      "插入法回路： [3, 3, 5, 105, 104, 8, 2, 4, 4, 29, 41, 106, 11, 10, 40, 23, 21, 20, 19, 28, 67, 66, 69, 70, 74, 90, 93, 94, 89, 96, 95, 98, 97, 91, 92, 76, 68, 72, 73, 71, 75, 27, 17, 18, 24, 25, 22, 26, 38, 36, 37, 35, 33, 34, 30, 32, 39, 31, 12, 64, 63, 62, 53, 82, 59, 58, 57, 56, 86, 85, 77, 78, 79, 81, 80, 84, 88, 83, 87, 55, 54, 60, 61, 65, 16, 14, 13, 15, 50, 6, 48, 49, 47, 46, 51, 45, 52, 44, 99, 102, 101, 103, 100, 43, 42, 7, 9, 3]\n",
      "总距离： 7827.499999999996\n"
     ]
    }
   ],
   "execution_count": 17
  },
  {
   "metadata": {
    "ExecuteTime": {
     "end_time": "2025-05-04T10:51:25.747758Z",
     "start_time": "2025-05-04T10:51:25.732966Z"
    }
   },
   "cell_type": "code",
   "source": [
    "def solve_tsp_insertion(tsp_matrix):\n",
    "    \"\"\"\n",
    "    使用\"最便宜插入\"（Cheapest Insertion）启发式算法求解TSP，\n",
    "    然后用3-opt局部搜索优化解。\n",
    "\n",
    "    参数:\n",
    "        tsp_matrix: NxN 的距离矩阵（正实数或整数），满足 d[i][j] = d[j][i], d[i][i] = 0\n",
    "\n",
    "    返回:\n",
    "        tour: 按访问顺序列出的节点索引列表（首尾相同），如 [0, 2, 5, 1, 0]\n",
    "        total_distance: 对应回路的总距离\n",
    "    \"\"\"\n",
    "    n = len(tsp_matrix)\n",
    "    if n <= 1:\n",
    "        return [0, 0], 0\n",
    "\n",
    "    # 初始回路：从节点 0 到节点 1 回到 0\n",
    "    tour = [0, 1, 0]\n",
    "    remaining = set(range(n)) - {0, 1}\n",
    "\n",
    "    # 不断插入最便宜的节点\n",
    "    while remaining:\n",
    "        best_node = None\n",
    "        best_pos = None\n",
    "        best_increase = float('inf')\n",
    "\n",
    "        # 遍历每个待插入节点\n",
    "        for node in remaining:\n",
    "            # 尝试插入到 tour 的每一条边 (i -> j) 之间\n",
    "            for i in range(len(tour) - 1):\n",
    "                u, v = tour[i], tour[i+1]\n",
    "                increase = (\n",
    "                    tsp_matrix[u][node]\n",
    "                    + tsp_matrix[node][v]\n",
    "                    - tsp_matrix[u][v]\n",
    "                )\n",
    "                if increase < best_increase:\n",
    "                    best_increase = increase\n",
    "                    best_node = node\n",
    "                    best_pos = i + 1\n",
    "\n",
    "        # 在最佳位置插入该节点\n",
    "        tour.insert(best_pos, best_node)\n",
    "        remaining.remove(best_node)\n",
    "\n",
    "    # 计算初始总距离\n",
    "    initial_distance = sum(tsp_matrix[tour[i]][tour[i+1]] for i in range(len(tour) - 1))\n",
    "\n",
    "    # 应用3-opt优化\n",
    "    tour = three_opt(tour[:-1], tsp_matrix)  # 移除重复的起点，优化后再添加\n",
    "    tour.append(tour[0])  # 添加回起点，形成完整回路\n",
    "\n",
    "    # 计算优化后总距离\n",
    "    total_distance = sum(tsp_matrix[tour[i]][tour[i+1]] for i in range(len(tour) - 1))\n",
    "\n",
    "    return tour, total_distance\n",
    "\n",
    "import numpy as np\n",
    "from joblib import Parallel, delayed\n",
    "import time\n",
    "\n",
    "def three_opt(tour, dist_matrix, n_jobs=-1, chunk_size=50, max_iterations=3):\n",
    "    \"\"\"\n",
    "    使用3-opt局部搜索优化TSP路径，通过并行计算提高效率\n",
    "\n",
    "    参数:\n",
    "        tour: 初始路径（不包含重复的起点）\n",
    "        dist_matrix: 距离矩阵\n",
    "        n_jobs: 并行作业数量，默认为-1（使用所有可用CPU核心）\n",
    "        chunk_size: 每批并行处理的边组合数量\n",
    "        max_iterations: 最大迭代次数，避免陷入过长的搜索\n",
    "\n",
    "    返回:\n",
    "        优化后的路径和总距离\n",
    "    \"\"\"\n",
    "    n = len(tour)\n",
    "    best_tour = tour.copy()\n",
    "    improved = True\n",
    "    iteration = 0\n",
    "\n",
    "    # 预计算距离查找表以加速计算\n",
    "    dist_lookup = {}\n",
    "    for i in range(n):\n",
    "        for j in range(n):\n",
    "            dist_lookup[(tour[i], tour[j])] = dist_matrix[tour[i]][tour[j]]\n",
    "\n",
    "    def evaluate_swap(i, j, k):\n",
    "        \"\"\"评估特定的3-opt交换操作\"\"\"\n",
    "        a, b = best_tour[i], best_tour[(i + 1) % n]\n",
    "        c, d = best_tour[j], best_tour[(j + 1) % n]\n",
    "        e, f = best_tour[k], best_tour[(k + 1) % n]\n",
    "\n",
    "        # 当前配置距离\n",
    "        d0 = dist_lookup[(a, b)] + dist_lookup[(c, d)] + dist_lookup[(e, f)]\n",
    "\n",
    "        # 三种可能的重连方式\n",
    "        d1 = dist_lookup[(a, c)] + dist_lookup[(b, e)] + dist_lookup[(d, f)]  # 方式1\n",
    "        d2 = dist_lookup[(a, d)] + dist_lookup[(c, f)] + dist_lookup[(e, b)]  # 方式2\n",
    "        d3 = dist_lookup[(a, e)] + dist_lookup[(d, b)] + dist_lookup[(c, f)]  # 方式3\n",
    "\n",
    "        improvements = []\n",
    "        if d1 < d0:\n",
    "            improvements.append((d0 - d1, 1, i, j, k))\n",
    "        if d2 < d0:\n",
    "            improvements.append((d0 - d2, 2, i, j, k))\n",
    "        if d3 < d0:\n",
    "            improvements.append((d0 - d3, 3, i, j, k))\n",
    "\n",
    "        return improvements if improvements else []\n",
    "\n",
    "    def generate_swap_indices():\n",
    "        \"\"\"生成要评估的所有索引组合\"\"\"\n",
    "        indices = []\n",
    "        for i in range(n - 2):\n",
    "            for j in range(i + 1, n - 1):\n",
    "                for k in range(j + 1, n):\n",
    "                    indices.append((i, j, k))\n",
    "        return indices\n",
    "\n",
    "    start_time = time.time()\n",
    "    print(\"开始3-opt优化...\")\n",
    "\n",
    "    while improved and iteration < max_iterations:\n",
    "        improved = False\n",
    "        iteration += 1\n",
    "\n",
    "        # 生成所有可能的3-opt交换索引\n",
    "        all_indices = generate_swap_indices()\n",
    "\n",
    "        # 使用joblib进行并行处理\n",
    "        results = Parallel(n_jobs=n_jobs, prefer=\"threads\")(\n",
    "            delayed(evaluate_swap)(i, j, k)\n",
    "            for i, j, k in all_indices\n",
    "        )\n",
    "\n",
    "        # 扁平化结果列表\n",
    "        all_improvements = []\n",
    "        for r in results:\n",
    "            all_improvements.extend(r)\n",
    "\n",
    "        # 如果找到改进，选择最佳改进\n",
    "        if all_improvements:\n",
    "            # 按改进量排序，选择最大的\n",
    "            best_improvement = max(all_improvements, key=lambda x: x[0])\n",
    "            improvement, move_type, i, j, k = best_improvement\n",
    "\n",
    "            # 执行最佳交换\n",
    "            if move_type == 1:\n",
    "                # 翻转从i+1到j\n",
    "                best_tour[i+1:j+1] = best_tour[i+1:j+1][::-1]\n",
    "            elif move_type == 2:\n",
    "                # 翻转从j+1到k\n",
    "                best_tour[j+1:k+1] = best_tour[j+1:k+1][::-1]\n",
    "            elif move_type == 3:\n",
    "                # 交换i+1到j和j+1到k的部分\n",
    "                temp = best_tour[i+1:j+1].copy()\n",
    "                best_tour[i+1:i+1+(k-j)] = best_tour[j+1:k+1]\n",
    "                best_tour[i+1+(k-j):k+1] = temp\n",
    "\n",
    "            # 更新查找表（实际操作中可能需要根据修改更新部分查找表项）\n",
    "            for ii in range(n):\n",
    "                for jj in range(n):\n",
    "                    dist_lookup[(best_tour[ii], best_tour[jj])] = dist_matrix[best_tour[ii]][best_tour[jj]]\n",
    "\n",
    "            improved = True\n",
    "\n",
    "        elapsed = time.time() - start_time\n",
    "        print(f\"迭代 {iteration}: 找到改进 = {improved}, 已用时间 = {elapsed:.2f}秒\")\n",
    "\n",
    "    # 计算最终路径的总距离\n",
    "    total_distance = 0\n",
    "    for i in range(len(best_tour)):\n",
    "        j = (i + 1) % len(best_tour)\n",
    "        total_distance += dist_matrix[best_tour[i]][best_tour[j]]\n",
    "\n",
    "    elapsed_time = time.time() - start_time\n",
    "    print(f\"3-opt优化完成，共进行了{iteration}次迭代，总用时{elapsed_time:.2f}秒\")\n",
    "\n",
    "    return best_tour, total_distance\n",
    "\n",
    "def solve_tsp_insertion(tsp_matrix):\n",
    "    \"\"\"\n",
    "    使用\"最便宜插入\"（Cheapest Insertion）启发式算法求解TSP，\n",
    "    然后用3-opt局部搜索优化解。\n",
    "    \"\"\"\n",
    "    n = len(tsp_matrix)\n",
    "    if n <= 1:\n",
    "        return [0, 0], 0\n",
    "\n",
    "    # 初始回路：从节点 0 到节点 1 回到 0\n",
    "    tour = [0, 1, 0]\n",
    "    remaining = set(range(n)) - {0, 1}\n",
    "\n",
    "    # 不断插入最便宜的节点\n",
    "    while remaining:\n",
    "        best_node = None\n",
    "        best_pos = None\n",
    "        best_increase = float('inf')\n",
    "\n",
    "        # 遍历每个待插入节点\n",
    "        for node in remaining:\n",
    "            # 尝试插入到 tour 的每一条边 (i -> j) 之间\n",
    "            for i in range(len(tour) - 1):\n",
    "                u, v = tour[i], tour[i+1]\n",
    "                increase = (\n",
    "                    tsp_matrix[u][node]\n",
    "                    + tsp_matrix[node][v]\n",
    "                    - tsp_matrix[u][v]\n",
    "                )\n",
    "                if increase < best_increase:\n",
    "                    best_increase = increase\n",
    "                    best_node = node\n",
    "                    best_pos = i + 1\n",
    "\n",
    "        # 在最佳位置插入该节点\n",
    "        tour.insert(best_pos, best_node)\n",
    "        remaining.remove(best_node)\n",
    "\n",
    "    # 计算初始总距离\n",
    "    initial_distance = sum(tsp_matrix[tour[i]][tour[i+1]] for i in range(len(tour) - 1))\n",
    "\n",
    "    # 应用3-opt优化 - 正确解析返回值\n",
    "    optimized_tour, optimized_distance = three_opt(\n",
    "        tour=tour[:-1],  # 移除重复的起点\n",
    "        dist_matrix=tsp_matrix,\n",
    "        n_jobs=20,\n",
    "        max_iterations=5\n",
    "    )\n",
    "\n",
    "    # 添加回起点，形成完整回路\n",
    "    complete_tour = optimized_tour.copy()\n",
    "    complete_tour.append(complete_tour[0])\n",
    "\n",
    "    return complete_tour, optimized_distance"
   ],
   "id": "82f92a043fd441a8",
   "outputs": [],
   "execution_count": 26
  },
  {
   "metadata": {
    "ExecuteTime": {
     "end_time": "2025-05-04T10:51:46.986966Z",
     "start_time": "2025-05-04T10:51:27.719130Z"
    }
   },
   "cell_type": "code",
   "source": [
    "tour, dist = solve_tsp_insertion(data)\n",
    "# optimized_tour, optimized_distance = three_opt(\n",
    "#     tour=tour[:-1],  # 移除末尾重复的起点\n",
    "#     dist_matrix=data,\n",
    "#     n_jobs=20,  # 使用4个核心并行计算\n",
    "#     max_iterations=5  # 最多迭代5次\n",
    "# )\n",
    "\n",
    "# 添加回起点，形成完整回路\n",
    "# optimized_tour.append(optimized_tour[0])\n",
    "#\n",
    "# print(f\"3-opt优化后的路径长度: {len(optimized_tour)}\")\n",
    "# print(f\"3-opt优化后的总距离: {optimized_distance:.2f}\")\n",
    "\n",
    "print(\"插入法回路：\", tour)\n",
    "print(\"总距离：\", dist)"
   ],
   "id": "5ba150ecf2809efc",
   "outputs": [
    {
     "name": "stdout",
     "output_type": "stream",
     "text": [
      "开始3-opt优化...\n",
      "迭代 1: 找到改进 = True, 已用时间 = 3.85秒\n",
      "迭代 2: 找到改进 = True, 已用时间 = 7.66秒\n",
      "迭代 3: 找到改进 = True, 已用时间 = 11.39秒\n",
      "迭代 4: 找到改进 = True, 已用时间 = 15.20秒\n",
      "迭代 5: 找到改进 = True, 已用时间 = 19.17秒\n",
      "3-opt优化完成，共进行了5次迭代，总用时19.17秒\n",
      "插入法回路： [0, 1, 105, 104, 8, 5, 4, 2, 29, 41, 106, 11, 10, 40, 23, 21, 20, 19, 28, 67, 66, 69, 70, 74, 93, 90, 94, 89, 96, 95, 98, 97, 91, 92, 76, 68, 72, 73, 71, 75, 27, 17, 18, 24, 25, 22, 26, 38, 36, 37, 35, 33, 34, 30, 32, 39, 31, 12, 6, 50, 15, 13, 14, 16, 65, 61, 60, 54, 55, 87, 83, 88, 84, 78, 77, 85, 86, 79, 80, 81, 82, 59, 58, 57, 56, 53, 62, 63, 64, 48, 49, 47, 46, 51, 45, 52, 44, 99, 102, 101, 103, 100, 43, 42, 7, 9, 3, 0]\n",
      "总距离： 7724.299999999998\n"
     ]
    }
   ],
   "execution_count": 27
  },
  {
   "metadata": {},
   "cell_type": "markdown",
   "source": "## 拉格朗日松弛",
   "id": "c1b9cc4a0188c9b1"
  },
  {
   "metadata": {
    "ExecuteTime": {
     "end_time": "2025-05-04T11:57:05.641941Z",
     "start_time": "2025-05-04T11:57:05.636767Z"
    }
   },
   "cell_type": "code",
   "source": [
    "def solve_two_traveler_tsp_csats_lower_bound(\n",
    "    tsp_matrix,\n",
    "    origins=(96, 79),\n",
    "    time_limit_sec=600,\n",
    "    num_workers=20\n",
    "):\n",
    "    \"\"\"\n",
    "    计算两旅行商 TSP 的下界（assignment relaxation）。\n",
    "\n",
    "    参数:\n",
    "      tsp_matrix     : NxN 距离矩阵（float 或 int）\n",
    "      origins         : 二元组 (o0, o1)，两旅行商的起点（对下界无影响，可传入）\n",
    "      time_limit_sec : 搜索时限（对下界计算无影响，可传入）\n",
    "      num_workers    : 并行线程数（对下界计算无影响，可传入）\n",
    "\n",
    "    返回:\n",
    "      lower_bound    : 原整数规划最优值的一个下界（浮点数）\n",
    "    \"\"\"\n",
    "    n = len(tsp_matrix)\n",
    "    if n == 0:\n",
    "        return 0.0\n",
    "\n",
    "    # 对每个节点 i，我们松弛“连通性/Subtour”约束，\n",
    "    # 只保留“度数 = 2”约束，那么对每个 i 最低代价\n",
    "    # 就是选它相连的两条最短边。\n",
    "    total = 0.0\n",
    "    for i in range(n):\n",
    "        # 排除 i→i，找两条最小的 d[i][j]\n",
    "        # O(n log n) 排序亦可优化为 O(n)\n",
    "        dists = sorted(tsp_matrix[i][j] for j in range(n) if j != i)\n",
    "        total += dists[0] + dists[1]\n",
    "\n",
    "    # 因为每条边在 sum_i(deg 2) 时被统计了两次，所以除以 2\n",
    "    lower_bound = total * 0.5\n",
    "    return lower_bound\n"
   ],
   "id": "ba82a902ea53a229",
   "outputs": [],
   "execution_count": 36
  },
  {
   "metadata": {
    "ExecuteTime": {
     "end_time": "2025-05-04T11:57:07.221727Z",
     "start_time": "2025-05-04T11:57:07.216136Z"
    }
   },
   "cell_type": "code",
   "source": [
    "# # 使用示例\n",
    "# best_lb, best_tours = lagrangian_2tsp_lower_bound(\n",
    "#     tsp_matrix=data,\n",
    "#     origins=(96, 79),\n",
    "#     max_iter=200,\n",
    "#     step_size=0.05\n",
    "# )\n",
    "#\n",
    "# print(f\"两旅行商问题的拉格朗日对偶下界: {best_lb:.2f}\")\n",
    "# print(f\"旅行者1路径: {best_tours[0]}\")\n",
    "# print(f\"旅行者2路径: {best_tours[1]}\")\n",
    "lb = solve_two_traveler_tsp_csats_lower_bound(data)\n",
    "print(f\"拉格朗日下界: {lb:.2f}\")"
   ],
   "id": "7875a02e41f518e8",
   "outputs": [
    {
     "name": "stdout",
     "output_type": "stream",
     "text": [
      "拉格朗日下界: 5217.45\n"
     ]
    }
   ],
   "execution_count": 37
  }
 ],
 "metadata": {
  "kernelspec": {
   "display_name": "Python 3",
   "language": "python",
   "name": "python3"
  },
  "language_info": {
   "codemirror_mode": {
    "name": "ipython",
    "version": 2
   },
   "file_extension": ".py",
   "mimetype": "text/x-python",
   "name": "python",
   "nbconvert_exporter": "python",
   "pygments_lexer": "ipython2",
   "version": "2.7.6"
  }
 },
 "nbformat": 4,
 "nbformat_minor": 5
}
